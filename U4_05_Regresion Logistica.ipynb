{
  "nbformat": 4,
  "nbformat_minor": 0,
  "metadata": {
    "colab": {
      "provenance": []
    },
    "kernelspec": {
      "name": "python3",
      "display_name": "Python 3"
    },
    "language_info": {
      "name": "python"
    }
  },
  "cells": [
    {
      "cell_type": "code",
      "execution_count": null,
      "metadata": {
        "id": "DnTzCezyNYHZ"
      },
      "outputs": [],
      "source": [
        "#Titanic Kaggle"
      ]
    },
    {
      "cell_type": "code",
      "source": [
        "import pandas as pd\n",
        "datos = pd.read_csv(\"train.csv\")"
      ],
      "metadata": {
        "id": "pJVtfeiiO97v"
      },
      "execution_count": null,
      "outputs": []
    },
    {
      "cell_type": "code",
      "source": [
        "datos.head()"
      ],
      "metadata": {
        "id": "Zgwq5RKtPBVe"
      },
      "execution_count": null,
      "outputs": []
    },
    {
      "cell_type": "code",
      "source": [
        "datos.describe()"
      ],
      "metadata": {
        "id": "iICkHR1mQUAk"
      },
      "execution_count": null,
      "outputs": []
    },
    {
      "cell_type": "code",
      "source": [
        "import seaborn as sb\n",
        "sb.countplot(x=\"Survived\", data=datos)"
      ],
      "metadata": {
        "id": "MT8SQMpdQwXn"
      },
      "execution_count": null,
      "outputs": []
    },
    {
      "cell_type": "code",
      "source": [
        "sb.countplot(x=\"Survived\", data=datos, hue=\"Sex\")"
      ],
      "metadata": {
        "id": "fZubkgG1Q5NE"
      },
      "execution_count": null,
      "outputs": []
    },
    {
      "cell_type": "code",
      "source": [
        "datos.isna().sum()"
      ],
      "metadata": {
        "id": "0Q0tp2y4RCvW"
      },
      "execution_count": null,
      "outputs": []
    },
    {
      "cell_type": "code",
      "source": [
        "sb.displot(x=\"Age\", data=datos)"
      ],
      "metadata": {
        "id": "VvmExAXQRfR7"
      },
      "execution_count": null,
      "outputs": []
    },
    {
      "cell_type": "code",
      "source": [
        "datos[\"Age\"]"
      ],
      "metadata": {
        "id": "tCNxMhy3RpbB"
      },
      "execution_count": null,
      "outputs": []
    },
    {
      "cell_type": "code",
      "source": [
        "datos[\"Age\"].mean()"
      ],
      "metadata": {
        "id": "xguO31vnRunm"
      },
      "execution_count": null,
      "outputs": []
    },
    {
      "cell_type": "code",
      "source": [
        "datos[\"Age\"].fillna(datos[\"Age\"].mean())"
      ],
      "metadata": {
        "id": "zLVrwjVbR0oP"
      },
      "execution_count": null,
      "outputs": []
    },
    {
      "cell_type": "code",
      "source": [
        "datos[\"Age\"] = datos[\"Age\"].fillna(datos[\"Age\"].mean())"
      ],
      "metadata": {
        "id": "KHyPUICQR_Z9"
      },
      "execution_count": null,
      "outputs": []
    },
    {
      "cell_type": "code",
      "source": [
        "datos[\"Age\"]"
      ],
      "metadata": {
        "id": "e-GV2EuwSEKt"
      },
      "execution_count": null,
      "outputs": []
    },
    {
      "cell_type": "code",
      "source": [
        "datos.isna().sum()"
      ],
      "metadata": {
        "id": "z5P7zGmxSGGu"
      },
      "execution_count": null,
      "outputs": []
    },
    {
      "cell_type": "code",
      "source": [
        "datos = datos.drop([\"Cabin\"], axis=1)"
      ],
      "metadata": {
        "id": "kJz6C-f2SQxx"
      },
      "execution_count": null,
      "outputs": []
    },
    {
      "cell_type": "code",
      "source": [
        "datos[\"Embarked\"].value_counts()"
      ],
      "metadata": {
        "id": "C04tlv5sSWAR"
      },
      "execution_count": null,
      "outputs": []
    },
    {
      "cell_type": "code",
      "source": [
        "datos = datos.dropna()"
      ],
      "metadata": {
        "id": "ya42gGoXSdtE"
      },
      "execution_count": null,
      "outputs": []
    },
    {
      "cell_type": "code",
      "source": [
        "datos.head()"
      ],
      "metadata": {
        "id": "Q51ILlwYSlFe"
      },
      "execution_count": null,
      "outputs": []
    },
    {
      "cell_type": "code",
      "source": [
        "datos = datos.drop([\"Name\", \"PassengerId\", \"Ticket\"], axis=1)"
      ],
      "metadata": {
        "id": "YYAWbUd7SpG2"
      },
      "execution_count": null,
      "outputs": []
    },
    {
      "cell_type": "code",
      "source": [
        "dummies_sex = pd.get_dummies(datos[\"Sex\"], drop_first=True)"
      ],
      "metadata": {
        "id": "NOuxBA3zSw18"
      },
      "execution_count": null,
      "outputs": []
    },
    {
      "cell_type": "code",
      "source": [
        "datos = datos.join(dummies_sex)\n",
        "datos = datos.drop([\"Sex\"], axis=1)"
      ],
      "metadata": {
        "id": "IlQ9hiG0TQSl"
      },
      "execution_count": null,
      "outputs": []
    },
    {
      "cell_type": "code",
      "source": [
        "sb.countplot(x=\"Survived\", data=datos, hue=\"Embarked\")"
      ],
      "metadata": {
        "id": "NZyUEv5aTbxZ"
      },
      "execution_count": null,
      "outputs": []
    },
    {
      "cell_type": "code",
      "source": [
        "dummies_embarked = pd.get_dummies(datos[\"Embarked\"], drop_first=True)"
      ],
      "metadata": {
        "id": "D4eNMVS6TnWl"
      },
      "execution_count": null,
      "outputs": []
    },
    {
      "cell_type": "code",
      "source": [
        "datos = datos.join(dummies_embarked)\n",
        "datos = datos.drop([\"Embarked\"], axis=1)"
      ],
      "metadata": {
        "id": "rBKZ3bLITsJ1"
      },
      "execution_count": null,
      "outputs": []
    },
    {
      "cell_type": "code",
      "source": [
        "sb.heatmap(datos.corr(), annot=True, cmap=\"YlGnBu\")"
      ],
      "metadata": {
        "id": "cd169FI5T1ox"
      },
      "execution_count": null,
      "outputs": []
    },
    {
      "cell_type": "code",
      "source": [
        "sb.countplot(x=\"Survived\", data=datos, hue=\"Pclass\")"
      ],
      "metadata": {
        "id": "26BzIdo5UL_-"
      },
      "execution_count": null,
      "outputs": []
    },
    {
      "cell_type": "code",
      "source": [
        "X = datos.drop([\"Survived\"], axis=1)\n",
        "y = datos[\"Survived\"]"
      ],
      "metadata": {
        "id": "y4dtnE04Ud3Q"
      },
      "execution_count": null,
      "outputs": []
    },
    {
      "cell_type": "code",
      "source": [
        "from sklearn.model_selection import train_test_split\n",
        "\n",
        "X_ent, X_pru, y_ent, y_pru = train_test_split(X, y, test_size=.2)"
      ],
      "metadata": {
        "id": "mnqtdoa8Uim8"
      },
      "execution_count": null,
      "outputs": []
    },
    {
      "cell_type": "code",
      "source": [
        "from sklearn.linear_model import LogisticRegression\n",
        "\n",
        "modelo = LogisticRegression(max_iter=1000)\n",
        "modelo.fit(X_ent, y_ent)"
      ],
      "metadata": {
        "id": "QZ1o3G_NUpmE"
      },
      "execution_count": null,
      "outputs": []
    },
    {
      "cell_type": "code",
      "source": [
        "predicciones = modelo.predict(X_pru)"
      ],
      "metadata": {
        "id": "Bk0VV8yXU5go"
      },
      "execution_count": null,
      "outputs": []
    },
    {
      "cell_type": "code",
      "source": [
        "from sklearn.metrics import accuracy_score\n",
        "accuracy_score(y_pru, predicciones)"
      ],
      "metadata": {
        "id": "qtteHwEvVAyZ"
      },
      "execution_count": null,
      "outputs": []
    },
    {
      "cell_type": "code",
      "source": [
        "from sklearn.metrics import classification_report\n",
        "\n",
        "print(classification_report(y_pru, predicciones))"
      ],
      "metadata": {
        "id": "09E90f95VRAF"
      },
      "execution_count": null,
      "outputs": []
    },
    {
      "cell_type": "code",
      "source": [
        "from sklearn.metrics import confusion_matrix\n",
        "\n",
        "confusion_matrix(y_pru, predicciones)"
      ],
      "metadata": {
        "id": "Swc3yzozVfyF"
      },
      "execution_count": null,
      "outputs": []
    },
    {
      "cell_type": "code",
      "source": [
        "pd.DataFrame(confusion_matrix(y_pru, predicciones), columns=[\"Pred: No\", \"Pred: Si\"], index=[\"Real: No\", \"Real: Si\"])"
      ],
      "metadata": {
        "id": "YoK_wZfBVloH"
      },
      "execution_count": null,
      "outputs": []
    },
    {
      "cell_type": "code",
      "source": [
        "X.head()"
      ],
      "metadata": {
        "id": "nWKmxdo9V_jo"
      },
      "execution_count": null,
      "outputs": []
    },
    {
      "cell_type": "code",
      "source": [
        "nueva_persona = [2, 35, 0, 0, 80, 0, 0, 0]\n",
        "prediccion = modelo.predict([nueva_persona])\n",
        "if prediccion[0] == 1:\n",
        "  print(\"Sobreviviste\")\n",
        "else:\n",
        "  print(\"No sobreviviste\")"
      ],
      "metadata": {
        "id": "DB0GiKN5V9nu"
      },
      "execution_count": null,
      "outputs": []
    }
  ]
}