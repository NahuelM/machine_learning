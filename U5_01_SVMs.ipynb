{
  "nbformat": 4,
  "nbformat_minor": 0,
  "metadata": {
    "colab": {
      "provenance": []
    },
    "kernelspec": {
      "name": "python3",
      "display_name": "Python 3"
    },
    "language_info": {
      "name": "python"
    }
  },
  "cells": [
    {
      "cell_type": "code",
      "execution_count": null,
      "metadata": {
        "id": "1T4Oy4h5DG-Z"
      },
      "outputs": [],
      "source": [
        "from sklearn import datasets\n",
        "\n",
        "datos = datasets.load_breast_cancer(as_frame=True)"
      ]
    },
    {
      "cell_type": "code",
      "source": [
        "datos.frame.head()"
      ],
      "metadata": {
        "id": "Tvytmc3AELLh"
      },
      "execution_count": null,
      "outputs": []
    },
    {
      "cell_type": "code",
      "source": [
        "datos.frame.info()"
      ],
      "metadata": {
        "id": "xn4_HEOzEnLE"
      },
      "execution_count": null,
      "outputs": []
    },
    {
      "cell_type": "code",
      "source": [
        "datos.frame.isna().sum()"
      ],
      "metadata": {
        "id": "aZX8lAy3EsM8"
      },
      "execution_count": null,
      "outputs": []
    },
    {
      "cell_type": "code",
      "source": [
        "datos.frame.describe()"
      ],
      "metadata": {
        "id": "lY2hTPPyEwxS"
      },
      "execution_count": null,
      "outputs": []
    },
    {
      "cell_type": "code",
      "source": [
        "datos.data.shape"
      ],
      "metadata": {
        "id": "AVv6oAMAE9rL"
      },
      "execution_count": null,
      "outputs": []
    },
    {
      "cell_type": "code",
      "source": [
        "from sklearn.model_selection import train_test_split\n",
        "\n",
        "X = datos.data\n",
        "y = datos.target\n",
        "\n",
        "X_ent, X_pru, y_ent, y_pru = train_test_split(X, y, test_size = .5)"
      ],
      "metadata": {
        "id": "-9_QrhoQFGkw"
      },
      "execution_count": null,
      "outputs": []
    },
    {
      "cell_type": "code",
      "source": [
        "from sklearn import svm\n",
        "from sklearn import metrics\n",
        "\n",
        "kernels = [\"linear\", \"rbf\", \"sigmoid\"]\n",
        "gammas = [1, .01, .001, .0001, .00001]\n",
        "\n",
        "for kernel in kernels:\n",
        "  for gamma in gammas:\n",
        "    modelo = svm.SVC(kernel=kernel, gamma=gamma)\n",
        "    modelo.fit(X_ent, y_ent)\n",
        "    predicciones = modelo.predict(X_pru)\n",
        "    print(f\"{kernel}: Gamma: {gamma}: Exactitud:\", metrics.accuracy_score(y_pru, predicciones))\n",
        "    print(f\"{kernel}: Gamma: {gamma}: Precisión:\", metrics.precision_score(y_pru, predicciones))"
      ],
      "metadata": {
        "id": "xehxy7wdFahi"
      },
      "execution_count": null,
      "outputs": []
    },
    {
      "cell_type": "code",
      "source": [
        "modelo = svm.SVC(kernel=\"linear\")\n",
        "modelo.fit(X_ent, y_ent)\n",
        "predicciones = modelo.predict(X_pru)\n",
        "print(f\"{kernel}: Gamma: {gamma}: Exactitud:\", metrics.accuracy_score(y_pru, predicciones))\n",
        "print(f\"{kernel}: Gamma: {gamma}: Precisión:\", metrics.precision_score(y_pru, predicciones))"
      ],
      "metadata": {
        "id": "HJnZAUanG3VA"
      },
      "execution_count": null,
      "outputs": []
    },
    {
      "cell_type": "code",
      "source": [
        "from sklearn.metrics import classification_report\n",
        "\n",
        "print(classification_report(y_pru, predicciones))"
      ],
      "metadata": {
        "id": "MYdUhBljG-Md"
      },
      "execution_count": null,
      "outputs": []
    },
    {
      "cell_type": "code",
      "source": [
        "from sklearn.metrics import confusion_matrix\n",
        "import pandas as pd\n",
        "\n",
        "pd.DataFrame( confusion_matrix(y_pru, predicciones))"
      ],
      "metadata": {
        "id": "1EQqG0cIHEkl"
      },
      "execution_count": null,
      "outputs": []
    },
    {
      "cell_type": "code",
      "source": [],
      "metadata": {
        "id": "rgxpFY7jHEe6"
      },
      "execution_count": null,
      "outputs": []
    }
  ]
}