{
 "cells": [
  {
   "cell_type": "code",
   "execution_count": 1,
   "id": "874f521f-9fe5-4980-bafc-92dfc9bb9c6d",
   "metadata": {},
   "outputs": [],
   "source": [
    "import gym\n",
    "from stable_baselines3 import SAC\n",
    "from stable_baselines3.common.vec_env import VecFrameStack\n",
    "from stable_baselines3.common.evaluation import evaluate_policy\n",
    "import os"
   ]
  },
  {
   "cell_type": "code",
   "execution_count": 2,
   "id": "13dd52d5-05c5-47f6-b5c9-63b508f79e08",
   "metadata": {},
   "outputs": [],
   "source": [
    "from stable_baselines3.common.vec_env import DummyVecEnv\n",
    "from stable_baselines3.common.env_util import make_vec_env"
   ]
  },
  {
   "cell_type": "code",
   "execution_count": 3,
   "id": "2db8dbcf-7408-48aa-ac46-dd0c0a83d46b",
   "metadata": {},
   "outputs": [],
   "source": [
    "from gym.envs import box2d"
   ]
  },
  {
   "cell_type": "code",
   "execution_count": 13,
   "id": "cbafc2f1-c769-4bbd-8d2d-191f21362a2e",
   "metadata": {},
   "outputs": [],
   "source": [
    "environment_name = \"BipedalWalker-v3\""
   ]
  },
  {
   "cell_type": "code",
   "execution_count": 14,
   "id": "f4ecc111-3ff0-4967-a9fc-b1ca91478fd3",
   "metadata": {},
   "outputs": [],
   "source": [
    "env = gym.make(environment_name, hardcore=True)"
   ]
  },
  {
   "cell_type": "code",
   "execution_count": 14,
   "id": "8aaad9e7-6a47-42d7-ae6c-eb013afe9a39",
   "metadata": {},
   "outputs": [
    {
     "data": {
      "text/plain": [
       "array([-0.0092526 ,  0.6516297 , -0.28077862, -0.7503878 ], dtype=float32)"
      ]
     },
     "execution_count": 14,
     "metadata": {},
     "output_type": "execute_result"
    }
   ],
   "source": [
    "env.action_space.sample()"
   ]
  },
  {
   "cell_type": "code",
   "execution_count": 15,
   "id": "934e4d7d-7a87-4380-baa3-afda85a5a86f",
   "metadata": {},
   "outputs": [],
   "source": [
    "vec_env = make_vec_env(environment_name, n_envs=4)"
   ]
  },
  {
   "cell_type": "code",
   "execution_count": 16,
   "id": "d22bfb55-0526-4185-af02-59bebf006555",
   "metadata": {},
   "outputs": [],
   "source": [
    "log_path = os.path.join('Training', 'Logs')"
   ]
  },
  {
   "cell_type": "code",
   "execution_count": 17,
   "id": "5fb34bcf-8581-4e02-aea6-a73ef5433eb4",
   "metadata": {},
   "outputs": [
    {
     "name": "stdout",
     "output_type": "stream",
     "text": [
      "Using cpu device\n",
      "Wrapping the env with a `Monitor` wrapper\n",
      "Wrapping the env in a DummyVecEnv.\n"
     ]
    },
    {
     "name": "stderr",
     "output_type": "stream",
     "text": [
      "C:\\Users\\im5431590\\AppData\\Local\\miniconda3\\Lib\\site-packages\\stable_baselines3\\common\\vec_env\\patch_gym.py:49: UserWarning: You provided an OpenAI Gym environment. We strongly recommend transitioning to Gymnasium environments. Stable-Baselines3 is automatically wrapping your environments in a compatibility layer, which could potentially cause issues.\n",
      "  warnings.warn(\n"
     ]
    }
   ],
   "source": [
    "model = SAC(\"MlpPolicy\", env, verbose=1, tensorboard_log=log_path)"
   ]
  },
  {
   "cell_type": "code",
   "execution_count": null,
   "id": "4e79d2f0-b662-4480-bcde-4545e40dd4eb",
   "metadata": {},
   "outputs": [
    {
     "name": "stdout",
     "output_type": "stream",
     "text": [
      "Logging to Training\\Logs\\SAC_2\n",
      "---------------------------------\n",
      "| rollout/           |          |\n",
      "|    ep_len_mean     | 529      |\n",
      "|    ep_rew_mean     | -107     |\n",
      "| time/              |          |\n",
      "|    episodes        | 4        |\n",
      "|    fps             | 45       |\n",
      "|    time_elapsed    | 47       |\n",
      "|    total_timesteps | 2117     |\n",
      "| train/             |          |\n",
      "|    actor_loss      | -17.5    |\n",
      "|    critic_loss     | 0.527    |\n",
      "|    ent_coef        | 0.547    |\n",
      "|    ent_coef_loss   | -4.02    |\n",
      "|    learning_rate   | 0.0003   |\n",
      "|    n_updates       | 2016     |\n",
      "---------------------------------\n",
      "---------------------------------\n",
      "| rollout/           |          |\n",
      "|    ep_len_mean     | 498      |\n",
      "|    ep_rew_mean     | -106     |\n",
      "| time/              |          |\n",
      "|    episodes        | 8        |\n",
      "|    fps             | 43       |\n",
      "|    time_elapsed    | 91       |\n",
      "|    total_timesteps | 3982     |\n",
      "| train/             |          |\n",
      "|    actor_loss      | -23.4    |\n",
      "|    critic_loss     | 1.79     |\n",
      "|    ent_coef        | 0.317    |\n",
      "|    ent_coef_loss   | -6.97    |\n",
      "|    learning_rate   | 0.0003   |\n",
      "|    n_updates       | 3881     |\n",
      "---------------------------------\n"
     ]
    }
   ],
   "source": [
    "model.learn(total_timesteps=1000000)"
   ]
  },
  {
   "cell_type": "code",
   "execution_count": null,
   "id": "3b10b4ff-5530-47b5-9bc7-11f0aa7a3c89",
   "metadata": {},
   "outputs": [],
   "source": [
    "sac_path = os.path.join('Training', 'Saved Models', 'SAC_Walker_model_1M')"
   ]
  },
  {
   "cell_type": "code",
   "execution_count": null,
   "id": "76d5ca57-c885-4f8d-8e9b-3400242d22ab",
   "metadata": {},
   "outputs": [],
   "source": [
    "model.save(sac_path)"
   ]
  }
 ],
 "metadata": {
  "kernelspec": {
   "display_name": "Python 3 (ipykernel)",
   "language": "python",
   "name": "python3"
  },
  "language_info": {
   "codemirror_mode": {
    "name": "ipython",
    "version": 3
   },
   "file_extension": ".py",
   "mimetype": "text/x-python",
   "name": "python",
   "nbconvert_exporter": "python",
   "pygments_lexer": "ipython3",
   "version": "3.11.4"
  }
 },
 "nbformat": 4,
 "nbformat_minor": 5
}
