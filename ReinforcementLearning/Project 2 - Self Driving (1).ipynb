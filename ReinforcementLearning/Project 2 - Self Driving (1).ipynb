{
 "cells": [
  {
   "cell_type": "markdown",
   "metadata": {},
   "source": [
    "# 1. Import Dependencies"
   ]
  },
  {
   "cell_type": "code",
   "execution_count": null,
   "metadata": {},
   "outputs": [],
   "source": [
    "#Install SWIG https://sourceforge.net/projects/swig/files/swigwin/swigwin-4.0.2/swigwin-4.0.2.zip/download?use_mirror=ixpeering"
   ]
  },
  {
   "cell_type": "code",
   "execution_count": 1,
   "metadata": {},
   "outputs": [
    {
     "name": "stdout",
     "output_type": "stream",
     "text": [
      "Collecting pyglet==1.3.2\n",
      "  Using cached pyglet-1.3.2-py2.py3-none-any.whl (1.0 MB)\n",
      "Collecting gym[box2d]\n",
      "  Using cached gym-0.26.2.tar.gz (721 kB)\n",
      "  Installing build dependencies: started\n",
      "  Installing build dependencies: finished with status 'done'\n",
      "  Getting requirements to build wheel: started\n",
      "  Getting requirements to build wheel: finished with status 'done'\n",
      "  Preparing metadata (pyproject.toml): started\n",
      "  Preparing metadata (pyproject.toml): finished with status 'done'\n",
      "Collecting future (from pyglet==1.3.2)\n",
      "  Using cached future-0.18.3.tar.gz (840 kB)\n",
      "  Preparing metadata (setup.py): started\n",
      "  Preparing metadata (setup.py): finished with status 'done'\n",
      "Requirement already satisfied: numpy>=1.18.0 in c:\\python312\\lib\\site-packages (from gym[box2d]) (1.26.2)\n",
      "Collecting cloudpickle>=1.2.0 (from gym[box2d])\n",
      "  Using cached cloudpickle-3.0.0-py3-none-any.whl.metadata (7.0 kB)\n",
      "Collecting gym-notices>=0.0.4 (from gym[box2d])\n",
      "  Using cached gym_notices-0.0.8-py3-none-any.whl (3.0 kB)\n",
      "Collecting box2d-py==2.3.5 (from gym[box2d])\n",
      "  Using cached box2d-py-2.3.5.tar.gz (374 kB)\n",
      "  Preparing metadata (setup.py): started\n",
      "  Preparing metadata (setup.py): finished with status 'done'\n",
      "Collecting pygame==2.1.0 (from gym[box2d])\n",
      "  Using cached pygame-2.1.0.tar.gz (5.8 MB)\n",
      "  Preparing metadata (setup.py): started\n",
      "  Preparing metadata (setup.py): finished with status 'error'\n"
     ]
    },
    {
     "name": "stderr",
     "output_type": "stream",
     "text": [
      "  error: subprocess-exited-with-error\n",
      "  \n",
      "  python setup.py egg_info did not run successfully.\n",
      "  exit code: 1\n",
      "  \n",
      "  [102 lines of output]\n",
      "  \n",
      "  \n",
      "  WARNING, No \"Setup\" File Exists, Running \"buildconfig/config.py\"\n",
      "  Using WINDOWS configuration...\n",
      "  \n",
      "  Traceback (most recent call last):\n",
      "    File \"C:\\Python312\\Lib\\site-packages\\urllib3\\connectionpool.py\", line 467, in _make_request\n",
      "      self._validate_conn(conn)\n",
      "    File \"C:\\Python312\\Lib\\site-packages\\urllib3\\connectionpool.py\", line 1096, in _validate_conn\n",
      "      conn.connect()\n",
      "    File \"C:\\Python312\\Lib\\site-packages\\urllib3\\connection.py\", line 642, in connect\n",
      "      sock_and_verified = _ssl_wrap_socket_and_match_hostname(\n",
      "                          ^^^^^^^^^^^^^^^^^^^^^^^^^^^^^^^^^^^^\n",
      "    File \"C:\\Python312\\Lib\\site-packages\\urllib3\\connection.py\", line 782, in _ssl_wrap_socket_and_match_hostname\n",
      "      ssl_sock = ssl_wrap_socket(\n",
      "                 ^^^^^^^^^^^^^^^^\n",
      "    File \"C:\\Python312\\Lib\\site-packages\\urllib3\\util\\ssl_.py\", line 470, in ssl_wrap_socket\n",
      "      ssl_sock = _ssl_wrap_socket_impl(sock, context, tls_in_tls, server_hostname)\n",
      "                 ^^^^^^^^^^^^^^^^^^^^^^^^^^^^^^^^^^^^^^^^^^^^^^^^^^^^^^^^^^^^^^^^^\n",
      "    File \"C:\\Python312\\Lib\\site-packages\\urllib3\\util\\ssl_.py\", line 514, in _ssl_wrap_socket_impl\n",
      "      return ssl_context.wrap_socket(sock, server_hostname=server_hostname)\n",
      "             ^^^^^^^^^^^^^^^^^^^^^^^^^^^^^^^^^^^^^^^^^^^^^^^^^^^^^^^^^^^^^^\n",
      "    File \"C:\\Python312\\Lib\\ssl.py\", line 455, in wrap_socket\n",
      "      return self.sslsocket_class._create(\n",
      "             ^^^^^^^^^^^^^^^^^^^^^^^^^^^^^\n",
      "    File \"C:\\Python312\\Lib\\ssl.py\", line 1046, in _create\n",
      "      self.do_handshake()\n",
      "    File \"C:\\Python312\\Lib\\ssl.py\", line 1317, in do_handshake\n",
      "      self._sslobj.do_handshake()\n",
      "  ssl.SSLCertVerificationError: [SSL: CERTIFICATE_VERIFY_FAILED] certificate verify failed: self-signed certificate in certificate chain (_ssl.c:1000)\n",
      "  \n",
      "  During handling of the above exception, another exception occurred:\n",
      "  \n",
      "  Traceback (most recent call last):\n",
      "    File \"C:\\Python312\\Lib\\site-packages\\urllib3\\connectionpool.py\", line 790, in urlopen\n",
      "      response = self._make_request(\n",
      "                 ^^^^^^^^^^^^^^^^^^^\n",
      "    File \"C:\\Python312\\Lib\\site-packages\\urllib3\\connectionpool.py\", line 491, in _make_request\n",
      "      raise new_e\n",
      "  urllib3.exceptions.SSLError: [SSL: CERTIFICATE_VERIFY_FAILED] certificate verify failed: self-signed certificate in certificate chain (_ssl.c:1000)\n",
      "  \n",
      "  The above exception was the direct cause of the following exception:\n",
      "  \n",
      "  Traceback (most recent call last):\n",
      "    File \"C:\\Python312\\Lib\\site-packages\\requests\\adapters.py\", line 486, in send\n",
      "      resp = conn.urlopen(\n",
      "             ^^^^^^^^^^^^^\n",
      "    File \"C:\\Python312\\Lib\\site-packages\\urllib3\\connectionpool.py\", line 844, in urlopen\n",
      "      retries = retries.increment(\n",
      "                ^^^^^^^^^^^^^^^^^^\n",
      "    File \"C:\\Python312\\Lib\\site-packages\\urllib3\\util\\retry.py\", line 515, in increment\n",
      "      raise MaxRetryError(_pool, url, reason) from reason  # type: ignore[arg-type]\n",
      "      ^^^^^^^^^^^^^^^^^^^^^^^^^^^^^^^^^^^^^^^^^^^^^^^^^^^\n",
      "  urllib3.exceptions.MaxRetryError: HTTPSConnectionPool(host='www.libsdl.org', port=443): Max retries exceeded with url: /release/SDL2-devel-2.0.16-VC.zip (Caused by SSLError(SSLCertVerificationError(1, '[SSL: CERTIFICATE_VERIFY_FAILED] certificate verify failed: self-signed certificate in certificate chain (_ssl.c:1000)')))\n",
      "  \n",
      "  During handling of the above exception, another exception occurred:\n",
      "  \n",
      "  Traceback (most recent call last):\n",
      "    File \"<string>\", line 2, in <module>\n",
      "    File \"<pip-setuptools-caller>\", line 34, in <module>\n",
      "    File \"C:\\Users\\im5431590\\AppData\\Local\\Temp\\pip-install-oaazsph6\\pygame_d0f583119de6489f899d345d1eaa46aa\\setup.py\", line 388, in <module>\n",
      "      buildconfig.config.main(AUTO_CONFIG)\n",
      "    File \"C:\\Users\\im5431590\\AppData\\Local\\Temp\\pip-install-oaazsph6\\pygame_d0f583119de6489f899d345d1eaa46aa\\buildconfig\\config.py\", line 234, in main\n",
      "      deps = CFG.main(**kwds)\n",
      "             ^^^^^^^^^^^^^^^^\n",
      "    File \"C:\\Users\\im5431590\\AppData\\Local\\Temp\\pip-install-oaazsph6\\pygame_d0f583119de6489f899d345d1eaa46aa\\buildconfig\\config_win.py\", line 497, in main\n",
      "      and download_win_prebuilt.ask(**download_kwargs):\n",
      "          ^^^^^^^^^^^^^^^^^^^^^^^^^^^^^^^^^^^^^^^^^^^^\n",
      "    File \"C:\\Users\\im5431590\\AppData\\Local\\Temp\\pip-install-oaazsph6\\pygame_d0f583119de6489f899d345d1eaa46aa\\buildconfig\\download_win_prebuilt.py\", line 290, in ask\n",
      "      update(x86=x86, x64=x64)\n",
      "    File \"C:\\Users\\im5431590\\AppData\\Local\\Temp\\pip-install-oaazsph6\\pygame_d0f583119de6489f899d345d1eaa46aa\\buildconfig\\download_win_prebuilt.py\", line 273, in update\n",
      "      download_prebuilts(download_dir, x86=x86, x64=x64)\n",
      "    File \"C:\\Users\\im5431590\\AppData\\Local\\Temp\\pip-install-oaazsph6\\pygame_d0f583119de6489f899d345d1eaa46aa\\buildconfig\\download_win_prebuilt.py\", line 124, in download_prebuilts\n",
      "      download_sha1_unzip(url, checksum, temp_dir, 1)\n",
      "    File \"C:\\Users\\im5431590\\AppData\\Local\\Temp\\pip-install-oaazsph6\\pygame_d0f583119de6489f899d345d1eaa46aa\\buildconfig\\download_win_prebuilt.py\", line 47, in download_sha1_unzip\n",
      "      response = requests.get(url)\n",
      "                 ^^^^^^^^^^^^^^^^^\n",
      "    File \"C:\\Python312\\Lib\\site-packages\\requests\\api.py\", line 73, in get\n",
      "      return request(\"get\", url, params=params, **kwargs)\n",
      "             ^^^^^^^^^^^^^^^^^^^^^^^^^^^^^^^^^^^^^^^^^^^^\n",
      "    File \"C:\\Python312\\Lib\\site-packages\\requests\\api.py\", line 59, in request\n",
      "      return session.request(method=method, url=url, **kwargs)\n",
      "             ^^^^^^^^^^^^^^^^^^^^^^^^^^^^^^^^^^^^^^^^^^^^^^^^^\n",
      "    File \"C:\\Python312\\Lib\\site-packages\\requests\\sessions.py\", line 589, in request\n",
      "      resp = self.send(prep, **send_kwargs)\n",
      "             ^^^^^^^^^^^^^^^^^^^^^^^^^^^^^^\n",
      "    File \"C:\\Python312\\Lib\\site-packages\\requests\\sessions.py\", line 703, in send\n",
      "      r = adapter.send(request, **kwargs)\n",
      "          ^^^^^^^^^^^^^^^^^^^^^^^^^^^^^^^\n",
      "    File \"C:\\Python312\\Lib\\site-packages\\requests\\adapters.py\", line 517, in send\n",
      "      raise SSLError(e, request=request)\n",
      "  requests.exceptions.SSLError: HTTPSConnectionPool(host='www.libsdl.org', port=443): Max retries exceeded with url: /release/SDL2-devel-2.0.16-VC.zip (Caused by SSLError(SSLCertVerificationError(1, '[SSL: CERTIFICATE_VERIFY_FAILED] certificate verify failed: self-signed certificate in certificate chain (_ssl.c:1000)')))\n",
      "  Making dir :prebuilt_downloads:\n",
      "  Downloading... https://www.libsdl.org/release/SDL2-devel-2.0.16-VC.zip 13d952c333f3c2ebe9b7bc0075b4ad2f784e7584\n",
      "  \n",
      "  ---\n",
      "  For help with compilation see:\n",
      "      https://www.pygame.org/wiki/CompileWindows\n",
      "  To contribute to pygame development see:\n",
      "      https://www.pygame.org/contribute.html\n",
      "  ---\n",
      "  \n",
      "  [end of output]\n",
      "  \n",
      "  note: This error originates from a subprocess, and is likely not a problem with pip.\n",
      "error: metadata-generation-failed\n",
      "\n",
      "Encountered error while generating package metadata.\n",
      "\n",
      "See above for output.\n",
      "\n",
      "note: This is an issue with the package mentioned above, not pip.\n",
      "hint: See above for details.\n",
      "\n",
      "[notice] A new release of pip is available: 23.3.1 -> 23.3.2\n",
      "[notice] To update, run: python.exe -m pip install --upgrade pip\n"
     ]
    }
   ],
   "source": [
    "!pip install gym[box2d] pyglet==1.3.2"
   ]
  },
  {
   "cell_type": "code",
   "execution_count": null,
   "metadata": {},
   "outputs": [],
   "source": [
    "import gym \n",
    "from stable_baselines3 import PPO\n",
    "from stable_baselines3.common.vec_env import VecFrameStack\n",
    "from stable_baselines3.common.evaluation import evaluate_policy\n",
    "import os"
   ]
  },
  {
   "cell_type": "markdown",
   "metadata": {},
   "source": [
    "# 2. Test Environment"
   ]
  },
  {
   "cell_type": "code",
   "execution_count": null,
   "metadata": {},
   "outputs": [],
   "source": [
    "environment_name = \"CarRacing-v2\""
   ]
  },
  {
   "cell_type": "code",
   "execution_count": null,
   "metadata": {},
   "outputs": [],
   "source": [
    "env = gym.make(environment_name)"
   ]
  },
  {
   "cell_type": "code",
   "execution_count": null,
   "metadata": {},
   "outputs": [],
   "source": [
    "episodes = 5\n",
    "for episode in range(1, episodes+1):\n",
    "    state = env.reset()\n",
    "    done = False\n",
    "    score = 0 \n",
    "    \n",
    "    while not done:\n",
    "        env.render()\n",
    "        action = env.action_space.sample()\n",
    "        n_state, reward, done, _, info = env.step(action)\n",
    "        score+=reward\n",
    "    print('Episode:{} Score:{}'.format(episode, score))\n",
    "env.close()"
   ]
  },
  {
   "cell_type": "code",
   "execution_count": null,
   "metadata": {},
   "outputs": [],
   "source": [
    "env.close()"
   ]
  },
  {
   "cell_type": "code",
   "execution_count": null,
   "metadata": {},
   "outputs": [],
   "source": [
    "env.action_space.sample()"
   ]
  },
  {
   "cell_type": "code",
   "execution_count": null,
   "metadata": {
    "scrolled": true
   },
   "outputs": [],
   "source": [
    "env.observation_space.sample()"
   ]
  },
  {
   "cell_type": "markdown",
   "metadata": {},
   "source": [
    "# 3. Train Model"
   ]
  },
  {
   "cell_type": "code",
   "execution_count": null,
   "metadata": {},
   "outputs": [],
   "source": [
    "log_path = os.path.join('Training', 'Logs')"
   ]
  },
  {
   "cell_type": "code",
   "execution_count": null,
   "metadata": {},
   "outputs": [],
   "source": [
    "model = PPO(\"CnnPolicy\", env, verbose=1, tensorboard_log=log_path)"
   ]
  },
  {
   "cell_type": "code",
   "execution_count": null,
   "metadata": {
    "scrolled": true
   },
   "outputs": [],
   "source": [
    "model.learn(total_timesteps=40000)"
   ]
  },
  {
   "cell_type": "markdown",
   "metadata": {},
   "source": [
    "# 4. Save Model "
   ]
  },
  {
   "cell_type": "code",
   "execution_count": null,
   "metadata": {},
   "outputs": [],
   "source": [
    "ppo_path = os.path.join('Training', 'Saved Models', 'PPO_Driving_model')"
   ]
  },
  {
   "cell_type": "code",
   "execution_count": null,
   "metadata": {},
   "outputs": [],
   "source": [
    "model.save(ppo_path)"
   ]
  },
  {
   "cell_type": "markdown",
   "metadata": {},
   "source": [
    "# 5. Evaluate and Test"
   ]
  },
  {
   "cell_type": "code",
   "execution_count": null,
   "metadata": {},
   "outputs": [],
   "source": [
    "evaluate_policy(model, env, n_eval_episodes=10, render=True)"
   ]
  },
  {
   "cell_type": "code",
   "execution_count": null,
   "metadata": {},
   "outputs": [],
   "source": [
    "env.close()"
   ]
  },
  {
   "cell_type": "code",
   "execution_count": null,
   "metadata": {},
   "outputs": [],
   "source": [
    "obs = env.reset()\n",
    "while True:\n",
    "    action, _states = model.predict(obs)\n",
    "    obs, rewards, dones, info = env.step(action)\n",
    "    env.render()"
   ]
  },
  {
   "cell_type": "code",
   "execution_count": null,
   "metadata": {},
   "outputs": [],
   "source": [
    "env.close()"
   ]
  }
 ],
 "metadata": {
  "kernelspec": {
   "display_name": "Python 3 (ipykernel)",
   "language": "python",
   "name": "python3"
  },
  "language_info": {
   "codemirror_mode": {
    "name": "ipython",
    "version": 3
   },
   "file_extension": ".py",
   "mimetype": "text/x-python",
   "name": "python",
   "nbconvert_exporter": "python",
   "pygments_lexer": "ipython3",
   "version": "3.10.6"
  }
 },
 "nbformat": 4,
 "nbformat_minor": 4
}
