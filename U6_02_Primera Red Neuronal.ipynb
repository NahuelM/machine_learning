{
  "nbformat": 4,
  "nbformat_minor": 0,
  "metadata": {
    "colab": {
      "provenance": []
    },
    "kernelspec": {
      "name": "python3",
      "display_name": "Python 3"
    },
    "language_info": {
      "name": "python"
    }
  },
  "cells": [
    {
      "cell_type": "code",
      "execution_count": null,
      "metadata": {
        "id": "vdmFhsaqCstO"
      },
      "outputs": [],
      "source": [
        "#Tensorflow / Pytorch"
      ]
    },
    {
      "cell_type": "code",
      "source": [
        "import pandas as pd\n",
        "\n",
        "datos = pd.read_csv(\"celsius.csv\")"
      ],
      "metadata": {
        "id": "myGA_vOvDErH"
      },
      "execution_count": null,
      "outputs": []
    },
    {
      "cell_type": "code",
      "source": [
        "datos.head()"
      ],
      "metadata": {
        "id": "-thG2o46DLSW"
      },
      "execution_count": null,
      "outputs": []
    },
    {
      "cell_type": "code",
      "source": [
        "datos[\"celsius\"].values"
      ],
      "metadata": {
        "id": "lDNrYL4sDY6U"
      },
      "execution_count": null,
      "outputs": []
    },
    {
      "cell_type": "code",
      "source": [
        "X = datos[\"celsius\"].values\n",
        "y = datos[\"fahrenheit\"].values"
      ],
      "metadata": {
        "id": "u2-1FfqFDR57"
      },
      "execution_count": null,
      "outputs": []
    },
    {
      "cell_type": "code",
      "source": [
        "import tensorflow as tf\n",
        "\n",
        "modelo = tf.keras.Sequential([\n",
        "    tf.keras.layers.Input(shape=(1,)), #la entrada, los celsius: 1 solo dato\n",
        "    tf.keras.layers.Dense(units=1), #la salida. Tambien es un dato: Los grados fahrenheit\n",
        "])\n",
        "\n",
        "modelo.compile(\n",
        "    optimizer=tf.keras.optimizers.Adam(.1),\n",
        "    loss=\"mean_squared_error\"\n",
        ")"
      ],
      "metadata": {
        "id": "zbWA9OWiDjMJ"
      },
      "execution_count": null,
      "outputs": []
    },
    {
      "cell_type": "code",
      "source": [
        "entrenamiento = modelo.fit(X, y, epochs=1000)"
      ],
      "metadata": {
        "id": "1KBQbWpeEphf"
      },
      "execution_count": null,
      "outputs": []
    },
    {
      "cell_type": "code",
      "source": [
        "import matplotlib.pyplot as plt\n",
        "\n",
        "plt.xlabel(\"# Epoca\")\n",
        "plt.ylabel(\"Magnitud de la pérdida\")\n",
        "plt.plot(entrenamiento.history[\"loss\"])"
      ],
      "metadata": {
        "id": "6YLbvOQzFIoi"
      },
      "execution_count": null,
      "outputs": []
    },
    {
      "cell_type": "code",
      "source": [
        "c = 1230\n",
        "prediccion = modelo.predict([c])\n",
        "print(f\"Predicción: {c} celsius son {prediccion[0]} fahrenheit\")"
      ],
      "metadata": {
        "id": "ak11Kcy0FgTj"
      },
      "execution_count": null,
      "outputs": []
    },
    {
      "cell_type": "code",
      "source": [
        "print(modelo.layers[0].get_weights())"
      ],
      "metadata": {
        "id": "hPJG5YFOGBCP"
      },
      "execution_count": null,
      "outputs": []
    },
    {
      "cell_type": "code",
      "source": [
        "#Calculo real para convertir celsius a fahrenheit es\n",
        "# (C * 1.8) + 32"
      ],
      "metadata": {
        "id": "i8yiwM5OGIih"
      },
      "execution_count": null,
      "outputs": []
    },
    {
      "cell_type": "code",
      "source": [
        "#Backpropagation / Propagación hacia atrás."
      ],
      "metadata": {
        "id": "4jTmwzN4GfXJ"
      },
      "execution_count": null,
      "outputs": []
    }
  ]
}