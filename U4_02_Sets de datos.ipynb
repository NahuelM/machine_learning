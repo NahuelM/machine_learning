{
  "nbformat": 4,
  "nbformat_minor": 0,
  "metadata": {
    "colab": {
      "provenance": []
    },
    "kernelspec": {
      "name": "python3",
      "display_name": "Python 3"
    },
    "language_info": {
      "name": "python"
    }
  },
  "cells": [
    {
      "cell_type": "code",
      "execution_count": null,
      "metadata": {
        "id": "j2d2HlucFtvF"
      },
      "outputs": [],
      "source": [
        "import pandas as pd\n",
        "\n",
        "datos = pd.read_csv(\"housing.csv\")"
      ]
    },
    {
      "cell_type": "code",
      "source": [
        "datos.head()"
      ],
      "metadata": {
        "id": "mC0WoJXLHcsn"
      },
      "execution_count": null,
      "outputs": []
    },
    {
      "cell_type": "code",
      "source": [
        "datos[\"ocean_proximity\"].value_counts()"
      ],
      "metadata": {
        "id": "n6J_5EvNH_qm"
      },
      "execution_count": null,
      "outputs": []
    },
    {
      "cell_type": "code",
      "source": [
        "datos.info()"
      ],
      "metadata": {
        "id": "hr1hM9rrIhn4"
      },
      "execution_count": null,
      "outputs": []
    },
    {
      "cell_type": "code",
      "source": [
        "datos.describe()"
      ],
      "metadata": {
        "id": "7z_u4fU5IyY9"
      },
      "execution_count": null,
      "outputs": []
    },
    {
      "cell_type": "code",
      "source": [
        "datos.hist(figsize=(15,8), bins=30, edgecolor=\"black\")"
      ],
      "metadata": {
        "id": "XIqd0J9-JkU0"
      },
      "execution_count": null,
      "outputs": []
    },
    {
      "cell_type": "code",
      "source": [
        "import seaborn as sb\n",
        "sb.scatterplot(x=\"latitude\", y=\"longitude\", data=datos, hue=\"median_house_value\", palette=\"coolwarm\",\n",
        "               s=datos[\"population\"]/100)"
      ],
      "metadata": {
        "id": "qRwDq8ZeKYCe"
      },
      "execution_count": null,
      "outputs": []
    },
    {
      "cell_type": "code",
      "source": [
        "sb.scatterplot(x=\"latitude\", y=\"longitude\", data=datos[(datos.median_income > 14)], hue=\"median_house_value\", palette=\"coolwarm\")"
      ],
      "metadata": {
        "id": "FC27CuLxLPR0"
      },
      "execution_count": null,
      "outputs": []
    },
    {
      "cell_type": "code",
      "source": [
        "datos.info()"
      ],
      "metadata": {
        "id": "7oNltIH0LiMZ"
      },
      "execution_count": null,
      "outputs": []
    },
    {
      "cell_type": "code",
      "source": [
        "datos_na = datos.dropna()"
      ],
      "metadata": {
        "id": "AKvIUPCHLr97"
      },
      "execution_count": null,
      "outputs": []
    },
    {
      "cell_type": "code",
      "source": [
        "datos_na.info()"
      ],
      "metadata": {
        "id": "bfBRf2cML9Ak"
      },
      "execution_count": null,
      "outputs": []
    },
    {
      "cell_type": "code",
      "source": [
        "#Convertir la caracteística categórica a numérica\n",
        "#Proximidad al oceano\n",
        "datos_na[\"ocean_proximity\"]\n"
      ],
      "metadata": {
        "id": "WtTKmmwNMB4E"
      },
      "execution_count": null,
      "outputs": []
    },
    {
      "cell_type": "code",
      "source": [
        "datos_na[\"ocean_proximity\"].value_counts()\n",
        "# 1,2,3,4,5"
      ],
      "metadata": {
        "id": "HZjHmhpkMJjz"
      },
      "execution_count": null,
      "outputs": []
    },
    {
      "cell_type": "code",
      "source": [
        "#Dummies / One-Hot Encoding\n",
        "# NEAR BAY   INLAND   NEAR OCEAN\n",
        "#    1          0         0\n",
        "#    0          0         1\n",
        "\n",
        "dummies = pd.get_dummies(datos_na[\"ocean_proximity\"], dtype=int)"
      ],
      "metadata": {
        "id": "nwiCzSAFMamW"
      },
      "execution_count": null,
      "outputs": []
    },
    {
      "cell_type": "code",
      "source": [
        "datos_na = datos_na.join(dummies)"
      ],
      "metadata": {
        "id": "Ul-kbjdGM3A9"
      },
      "execution_count": null,
      "outputs": []
    },
    {
      "cell_type": "code",
      "source": [
        "datos_na.head()"
      ],
      "metadata": {
        "id": "s8Gu-RlwNQSa"
      },
      "execution_count": null,
      "outputs": []
    },
    {
      "cell_type": "code",
      "source": [
        "datos_na = datos_na.drop([\"ocean_proximity\"], axis=1)"
      ],
      "metadata": {
        "id": "Eop7y_TENUS3"
      },
      "execution_count": null,
      "outputs": []
    },
    {
      "cell_type": "code",
      "source": [
        "datos_na.head()"
      ],
      "metadata": {
        "id": "hr7hySkXNhZa"
      },
      "execution_count": null,
      "outputs": []
    },
    {
      "cell_type": "code",
      "source": [
        "#Analisis, nuevas caracteristicas"
      ],
      "metadata": {
        "id": "7FrnamobNmsl"
      },
      "execution_count": null,
      "outputs": []
    },
    {
      "cell_type": "code",
      "source": [
        "datos.corr()"
      ],
      "metadata": {
        "id": "zjrB0rjYNqlS"
      },
      "execution_count": null,
      "outputs": []
    },
    {
      "cell_type": "code",
      "source": [
        "sb.set(rc={'figure.figsize': (15,8)})\n",
        "sb.heatmap(datos_na.corr(), annot=True, cmap=\"YlGnBu\")"
      ],
      "metadata": {
        "id": "D_075KTPNxej"
      },
      "execution_count": null,
      "outputs": []
    },
    {
      "cell_type": "code",
      "source": [
        "datos.corr()[\"median_house_value\"].sort_values(ascending=False)"
      ],
      "metadata": {
        "id": "0KU-Id5xPcrb"
      },
      "execution_count": null,
      "outputs": []
    }
  ]
}